{
 "cells": [
  {
   "cell_type": "code",
   "execution_count": 1,
   "metadata": {},
   "outputs": [],
   "source": [
    "from pathlib import Path\n",
    "import sys\n",
    "import os\n",
    "parent_folder = Path.cwd().parent\n",
    "sys.path.append(parent_folder.parent.as_posix())\n",
    "\n",
    "from dotenv import load_dotenv\n",
    "load_dotenv(parent_folder.as_posix() + '/.env')\n",
    "\n",
    "import uuid\n",
    "from gaspr.persistent import FileSystem, File"
   ]
  },
  {
   "cell_type": "code",
   "execution_count": 2,
   "metadata": {},
   "outputs": [],
   "source": [
    "test_file_name = 'test_file.txt'\n",
    "prefix_path = '315fd86c-2de2-46cb-adfd-0a3764c41388/' #f'{uuid.uuid4()}/'\n",
    "\n",
    "storage = FileSystem(f'./{prefix_path}', create_missing=True)"
   ]
  },
  {
   "cell_type": "code",
   "execution_count": 8,
   "metadata": {},
   "outputs": [],
   "source": [
    "async def upload():    \n",
    "    # upload file\n",
    "    print('\\nUploading File')\n",
    "    await storage._aupload_file(File(test_file_name, 'the fox jumped over the lazy dog'))\n",
    "\n",
    "async def list():\n",
    "    # list files\n",
    "    print('\\nListing Files')\n",
    "    files = await storage._aget_files()\n",
    "    for file in files:\n",
    "        print(file.name)\n",
    "\n",
    "async def download():\n",
    "    # download file\n",
    "    print('\\nDonwloading File')\n",
    "    test_file = await storage._aget_file(test_file_name)\n",
    "    print(test_file.content)\n",
    "\n",
    "async def delete():\n",
    "    # delete file\n",
    "    print('\\nDeleting File')\n",
    "    await storage._adelete_file(test_file_name)"
   ]
  },
  {
   "cell_type": "code",
   "execution_count": 4,
   "metadata": {},
   "outputs": [
    {
     "name": "stdout",
     "output_type": "stream",
     "text": [
      "\n",
      "Listing Files\n"
     ]
    }
   ],
   "source": [
    "await list()"
   ]
  },
  {
   "cell_type": "code",
   "execution_count": 13,
   "metadata": {},
   "outputs": [
    {
     "name": "stdout",
     "output_type": "stream",
     "text": [
      "\n",
      "Uploading File\n",
      "\n",
      "Listing Files\n",
      "test_file.txt\n"
     ]
    }
   ],
   "source": [
    "await upload()\n",
    "await list()"
   ]
  },
  {
   "cell_type": "code",
   "execution_count": 9,
   "metadata": {},
   "outputs": [
    {
     "name": "stdout",
     "output_type": "stream",
     "text": [
      "\n",
      "Donwloading File\n",
      "the fox jumped over the lazy dog\n"
     ]
    }
   ],
   "source": [
    "await download()"
   ]
  },
  {
   "cell_type": "code",
   "execution_count": 14,
   "metadata": {},
   "outputs": [
    {
     "name": "stdout",
     "output_type": "stream",
     "text": [
      "\n",
      "Deleting File\n",
      "\n",
      "Listing Files\n"
     ]
    }
   ],
   "source": [
    "await delete()\n",
    "await list()"
   ]
  }
 ],
 "metadata": {
  "kernelspec": {
   "display_name": ".venv",
   "language": "python",
   "name": "python3"
  },
  "language_info": {
   "codemirror_mode": {
    "name": "ipython",
    "version": 3
   },
   "file_extension": ".py",
   "mimetype": "text/x-python",
   "name": "python",
   "nbconvert_exporter": "python",
   "pygments_lexer": "ipython3",
   "version": "3.10.10"
  },
  "orig_nbformat": 4
 },
 "nbformat": 4,
 "nbformat_minor": 2
}
