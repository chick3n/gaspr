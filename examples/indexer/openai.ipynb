{
 "cells": [
  {
   "cell_type": "code",
   "execution_count": 1,
   "metadata": {},
   "outputs": [
    {
     "name": "stderr",
     "output_type": "stream",
     "text": [
      "c:\\Users\\Vincent\\projects\\gaspr\\.venv\\lib\\site-packages\\tqdm\\auto.py:21: TqdmWarning: IProgress not found. Please update jupyter and ipywidgets. See https://ipywidgets.readthedocs.io/en/stable/user_install.html\n",
      "  from .autonotebook import tqdm as notebook_tqdm\n"
     ]
    }
   ],
   "source": [
    "from pathlib import Path\n",
    "import sys\n",
    "import os\n",
    "parent_folder = Path.cwd().parent\n",
    "sys.path.append(parent_folder.parent.as_posix())\n",
    "\n",
    "from dotenv import load_dotenv\n",
    "load_dotenv(parent_folder.as_posix() + '/.env')\n",
    "\n",
    "import uuid\n",
    "from gaspr.persistent import FileSystem, File\n",
    "from gaspr import VectorIndexer, ListIndexer\n",
    "from gaspr.llms import AzureOpenAI"
   ]
  },
  {
   "cell_type": "code",
   "execution_count": 2,
   "metadata": {},
   "outputs": [],
   "source": [
    "long_text_document = \"Alberta Premier Danielle Smith says her United Conservative Party is paying for legal action she is considering against the CBC, which the Opposition NDP says raises the question of whether the government rejected pursuing the lawsuit. Smith, asked by reporters in Calgary on Tuesday who was funding the legal action, replied “the party,” and did not elaborate. Her office did not immediately respond to followup questions about why the party would fund the legal action that concerns Smith in her role as premier. Party spokesman Dave Prisco also did not immediately respond to a request for clarification on why the UCP had agreed to pay the bill. On Sunday, a notice of defamation letter sent from lawyers on behalf of Smith called on the CBC to retract and apologize for a January story. The story stated a member of her staff sent emails to the Alberta Crown Prosecution Service challenging how it was handling court cases from COVID-19 protests at the United States-Canada border crossing at Coutts, Alta.Smith has said a review found no evidence of contact between her office and the prosecution service. The CBC has said it stands by its reporting. A week ago, the NDP released a phone call recording of Smith discussing with Calgary street pastor Artur Pawlowski his looming criminal trial related to his involvement with the Coutts blockade. Smith is heard offering to make inquiries on Pawlowski's behalf, revealing to him internal government arguments over case direction and telling him that the charges against him are rooted in political bias. She also said she was reminding prosecutors “almost weekly” about her concerns about pursuing such cases. Smith has refused to answer questions from reporters about the call, citing the possible lawsuit against CBC. Opposition NDP Leader Rachel Notley said Tuesday that during her time as premier there was insurance to cover legal costs for cabinet ministers in the course of their work. Notley said it's possible those tasked with weighing the merits of Smith's possible lawsuit came out against paying for it, forcing Smith to look elsewhere. “It's very possible that the people who run that fund within the Government of Alberta and within the Ministry of Attorney General don't actually think that this is a particularly valid legal strategy for the premier, and (that) it's not a problem that she ran into by virtue of doing her appropriate job as the premier,” said Notley. “Rather, (Smith) ran offside in a way that is unprecedented and unacceptable, and so the only way that this lawsuit can even be pursued is if she goes to UCP donors and asks them to pay.” Notley said the other option is that Smith deliberately went outside the government to pursue the case. “If (Smith) believed that she was truly the victim of defamation as a result of doing her job as premier, that (government insurance) is a fund they could have gone to,” said Notley. “But when that happens, you're not hiring the lawyers. The public service is hiring the lawyers and the lawyers are giving the advice that the law would suggest they give. “But because, I would argue, the premier is so offside with the law, she is instead going to a partisan source of funding so that she can use this legal action as a political tactic, not as a genuine legal claim.” The NDP has called for an independent investigation to determine what happened and whether Smith, as premier, contacted other accused to discuss their cases. Legal experts have said Smith's call with Pawlowski represents a profound violation of the democratic convention that there must be a firewall to separate politicians from the day-to-day decision-making of cases before the courts. The notice of defamation letter gives the CBC until April 28 to retract its article and apologize or face potential further legal action, which would be just days before an expected writ drop for a provincial election, scheduled for May 29. Smith has long been critical of COVID-19 masking, gathering and vaccine mandate rules, questioning whether the measures were needed to fight the pandemic. She had promised to seek pardons for protesters of COVID-19 health restrictions. After becoming premier, she said she learned she does not have the power to grant pardons.\"\n",
    "llm = AzureOpenAI('text-davinci-003', \n",
    "                  embedding_model='text-embedding-ada-002')\n",
    "storage = FileSystem('./tester', create_missing=True)\n",
    "await storage._aupload_file(File('test.txt', long_text_document))"
   ]
  },
  {
   "cell_type": "code",
   "execution_count": 3,
   "metadata": {},
   "outputs": [],
   "source": [
    "indexer = await VectorIndexer.create(llm=llm, storage=storage)\n",
    "await indexer.asave()"
   ]
  },
  {
   "cell_type": "code",
   "execution_count": null,
   "metadata": {},
   "outputs": [],
   "source": [
    "indexer.query(\"Can you summarize the whole text.\")"
   ]
  },
  {
   "cell_type": "code",
   "execution_count": null,
   "metadata": {},
   "outputs": [],
   "source": [
    "await indexer.aquery(\"Summarize in one sentence.\")"
   ]
  },
  {
   "cell_type": "code",
   "execution_count": null,
   "metadata": {},
   "outputs": [],
   "source": [
    "await indexer.adelete()"
   ]
  },
  {
   "cell_type": "code",
   "execution_count": 3,
   "metadata": {},
   "outputs": [
    {
     "name": "stderr",
     "output_type": "stream",
     "text": [
      "INFO:ListIndexer:Loading files into list indexer.\n",
      "INFO:ListIndexer:3 files found at tester.\n",
      "INFO:llama_index.token_counter.token_counter:> [build_index_from_nodes] Total LLM token usage: 0 tokens\n",
      "INFO:llama_index.token_counter.token_counter:> [build_index_from_nodes] Total embedding token usage: 0 tokens\n"
     ]
    }
   ],
   "source": [
    "list_indexer = await ListIndexer.create(llm=llm, storage=storage)\n",
    "await list_indexer.asave()"
   ]
  },
  {
   "cell_type": "code",
   "execution_count": 7,
   "metadata": {},
   "outputs": [
    {
     "data": {
      "text/plain": [
       "DocumentStore(docs={'be4c2492-c6b9-4525-bb53-0097d576ce07': Node(text=\"Alberta Premier Danielle Smith says her United Conservative Party is paying for legal action she is considering against the CBC, which the Opposition NDP says raises the question of whether the government rejected pursuing the lawsuit. Smith, asked by reporters in Calgary on Tuesday who was funding the legal action, replied “the party,” and did not elaborate. Her office did not immediately respond to followup questions about why the party would fund the legal action that concerns Smith in her role as premier. Party spokesman Dave Prisco also did not immediately respond to a request for clarification on why the UCP had agreed to pay the bill. On Sunday, a notice of defamation letter sent from lawyers on behalf of Smith called on the CBC to retract and apologize for a January story. The story stated a member of her staff sent emails to the Alberta Crown Prosecution Service challenging how it was handling court cases from COVID-19 protests at the United States-Canada border crossing at Coutts, Alta.Smith has said a review found no evidence of contact between her office and the prosecution service. The CBC has said it stands by its reporting. A week ago, the NDP released a phone call recording of Smith discussing with Calgary street pastor Artur Pawlowski his looming criminal trial related to his involvement with the Coutts blockade. Smith is heard offering to make inquiries on Pawlowski's behalf, revealing to him internal government arguments over case direction and telling him that the charges against him are rooted in political bias. She also said she was reminding prosecutors “almost weekly” about her concerns about pursuing such cases. Smith has refused to answer questions from reporters about the call, citing the possible lawsuit against CBC. Opposition NDP Leader Rachel Notley said Tuesday that during her time as premier there was insurance to cover legal costs for cabinet ministers in the course of their work. Notley said it's possible those tasked with weighing the merits of Smith's possible lawsuit came out against paying for it, forcing Smith to look elsewhere. “It's very possible that the people who run that fund within the Government of Alberta and within the Ministry of Attorney General don't actually think that this is a particularly valid legal strategy for the premier, and (that) it's not a problem that she ran into by virtue of doing her appropriate job as the premier,” said Notley. “Rather, (Smith) ran offside in a way that is unprecedented and unacceptable, and so the only way that this lawsuit can even be pursued is if she goes to UCP donors and asks them to pay.” Notley said the other option is that Smith deliberately went outside the government to pursue the case. “If (Smith) believed that she was truly the victim of defamation as a result of doing her job as premier, that (government insurance) is a fund they could have gone to,” said Notley. “But when that happens, you're not hiring the lawyers. The public service is hiring the lawyers and the lawyers are giving the advice that the law would suggest they give. “But because, I would argue, the premier is so offside with the law, she is instead going to a partisan source of funding so that she can use this legal action as a political tactic, not as a genuine legal claim.” The NDP has called for an independent investigation to determine what happened and whether Smith, as premier, contacted other accused to discuss their cases. Legal experts have said Smith's call with Pawlowski represents a profound violation of the democratic convention that there must be a firewall to separate politicians from the day-to-day decision-making of cases before the courts. The notice of defamation letter gives the CBC until April 28 to retract its article and apologize or face potential further legal action, which would be just days before an expected writ drop for a provincial election, scheduled for May 29. Smith has long been critical of COVID-19 masking, gathering and vaccine mandate rules, questioning whether the measures were needed to fight the pandemic. She had promised to seek pardons for protesters of COVID-19 health restrictions. After becoming premier, she said she learned she does not have the power to grant pardons.\", doc_id='be4c2492-c6b9-4525-bb53-0097d576ce07', embedding=None, doc_hash='5b6585bea7b0c63b2fab46d71fc20b48da6cc694a846abc211e92da22d8cdb8d', extra_info=None, node_info={'start': 0, 'end': 4257}, relationships={<DocumentRelationship.SOURCE: '1'>: 'd928fd53-a58b-4e33-b2c1-7e7cf4dab35d'}), 'dc8af5c5-21ee-42d0-8f25-e8efcc603479': Node(text='Several departures and arrivals at Trudeau airport were delayed or cancelled. The education centres that have closed include: Sir Wilfrid Laurier School Board; Centre de service scolaire des Affluents; Centre de service scolaire des Hautes-Laurentides; Centre de services scolaire de Laval; Centre de services scolaire des Mille-ÃŽles; Centre de services scolaire des Samares; CollÃ¨ge FranÃ§ais Secondaire MontrÃ©al; CollÃ¨ge FranÃ§ais annexe primaire Longueuil; CollÃ¨ge FranÃ§ais annexe secondaire Longueuil; Ã‰cole Marie-Anne in Rawdon. The freezing rain alerts were issued by Environment Canada for several regions in southwestern Quebec, but Montreal, Laval, Laurentians, Outaouais, LanaudiÃ¨re and MontÃ©rÃ©gie are expected to be the most affected. Ten to 20 millimetres of ice is expected to fall, making roads and sidewalks slippery. Environment Canada warns that tree branches and electrical cables could break under the weight of the ice. The amounts of freezing rain could reach 30 millimetres in certain areas, particularly in the Laurentians.The Centre-du-QuÃ©bec and Estrie regions can expect five to 10 millimeters of ice.In the Quebec City region and as far as Abitibi-TÃ©miscamingue, two to five millimetres of ice are expected overnight from Wednesday to Thursday during a transition from snow and sleet to rain.In most areas, northeast winds of 40 kilometres per hour gusting to 60 km/h will accompany the freezing rain.There will be a significant rise in temperatures on Thursday.', doc_id='dc8af5c5-21ee-42d0-8f25-e8efcc603479', embedding=None, doc_hash='1bfcd785d9a73f38e0c606aa398939f9c48aa766576c4ccdc66e3a7726449a00', extra_info=None, node_info={'start': 0, 'end': 1501}, relationships={<DocumentRelationship.SOURCE: '1'>: '8f4187be-9e6a-4ef6-be62-646902786581'}), '0d12461c-0216-42d6-bce3-ad0ee24da2bb': Node(text='Police moved into Vancouver\\'s Downtown Eastside on Wednesday morning as the city prepares to carry out its plan to remove a street encampment from the neighbourhood. East Hastings Street, where people have been living in tents and make-shift structures, has been shut down at Main Street while the process begins. In a statement, the City of Vancouver said it has requested support from the Vancouver Police Department to \"bring the East Hastings encampment to a close,\" citing public safety and an increase of fires in the area. According to the city, officers are on hand to protect city staff as they do their work and to enforce street and traffic bylaws. City officials, including Mayor Ken Sim, will be speaking to the media at 10:30 a.m. PT. CBC News will livestream that new conference. The removal of the structures comes in the wake of leaked city documents that show a two-stage plan for the process. That leak raised concerns among advocates who work with people experiencing homelessness and mental health and substance use issues living in the East Hastings encampment. We\\'re going to do everything we can to make sure that they feel human after this process because it\\'s a very dehumanizing process,\" said Ryan Sudds, a member of Stop the Sweeps.Sudds said the organization has a team of legal observers who will be keeping an eye on how the removals are conducted.', doc_id='0d12461c-0216-42d6-bce3-ad0ee24da2bb', embedding=None, doc_hash='3656580b5f1ec9d3595ac0be44d24a517e9f3fc7405913eda35b38bbc868450f', extra_info=None, node_info={'start': 0, 'end': 1380}, relationships={<DocumentRelationship.SOURCE: '1'>: 'fab1a078-d73f-4af5-8636-03b3400249dd'})}, ref_doc_info=defaultdict(<class 'dict'>, {'d928fd53-a58b-4e33-b2c1-7e7cf4dab35d': {'doc_hash': '5b6585bea7b0c63b2fab46d71fc20b48da6cc694a846abc211e92da22d8cdb8d'}, '8f4187be-9e6a-4ef6-be62-646902786581': {'doc_hash': '1bfcd785d9a73f38e0c606aa398939f9c48aa766576c4ccdc66e3a7726449a00'}, 'fab1a078-d73f-4af5-8636-03b3400249dd': {'doc_hash': '3656580b5f1ec9d3595ac0be44d24a517e9f3fc7405913eda35b38bbc868450f'}, 'be4c2492-c6b9-4525-bb53-0097d576ce07': {'doc_hash': '5b6585bea7b0c63b2fab46d71fc20b48da6cc694a846abc211e92da22d8cdb8d'}, 'dc8af5c5-21ee-42d0-8f25-e8efcc603479': {'doc_hash': '1bfcd785d9a73f38e0c606aa398939f9c48aa766576c4ccdc66e3a7726449a00'}, '0d12461c-0216-42d6-bce3-ad0ee24da2bb': {'doc_hash': '3656580b5f1ec9d3595ac0be44d24a517e9f3fc7405913eda35b38bbc868450f'}}))"
      ]
     },
     "execution_count": 7,
     "metadata": {},
     "output_type": "execute_result"
    }
   ],
   "source": [
    "list_indexer.index.docstore"
   ]
  },
  {
   "cell_type": "code",
   "execution_count": 4,
   "metadata": {},
   "outputs": [
    {
     "name": "stderr",
     "output_type": "stream",
     "text": [
      "INFO:ListIndexer:Sending prompt What is a summary of this collection of text?\n",
      "INFO:llama_index.token_counter.token_counter:> [query] Total LLM token usage: 2360 tokens\n",
      "INFO:llama_index.token_counter.token_counter:> [query] Total embedding token usage: 0 tokens\n"
     ]
    },
    {
     "data": {
      "text/plain": [
       "LlamaIndexResponse(text=\"\\nAlberta Premier Danielle Smith's United Conservative Party has agreed to fund potential legal action against the CBC over a story about her staff allegedly contacting the Alberta Crown Prosecution Service. The Opposition NDP has raised questions about why the government rejected pursuing the lawsuit, and Smith has refused to answer questions from reporters about the call. The NDP has called for an independent investigation to determine what happened and whether Smith, as premier, contacted other accused to discuss their cases. Legal experts have said Smith's call with a Calgary street pastor represents a profound violation of the democratic convention of separating politicians from court decision-making. The recent developments in Vancouver regarding the removal of a street encampment and the leaked city documents that show a two-stage plan for the process are not relevant to this summary.\")"
      ]
     },
     "execution_count": 4,
     "metadata": {},
     "output_type": "execute_result"
    }
   ],
   "source": [
    "list_indexer.query(\"What is a summary of this collection of text?\")"
   ]
  }
 ],
 "metadata": {
  "kernelspec": {
   "display_name": ".venv",
   "language": "python",
   "name": "python3"
  },
  "language_info": {
   "codemirror_mode": {
    "name": "ipython",
    "version": 3
   },
   "file_extension": ".py",
   "mimetype": "text/x-python",
   "name": "python",
   "nbconvert_exporter": "python",
   "pygments_lexer": "ipython3",
   "version": "3.10.10"
  },
  "orig_nbformat": 4
 },
 "nbformat": 4,
 "nbformat_minor": 2
}
