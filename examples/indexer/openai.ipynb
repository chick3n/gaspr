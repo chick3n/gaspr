{
 "cells": [
  {
   "cell_type": "code",
   "execution_count": 1,
   "metadata": {},
   "outputs": [
    {
     "name": "stderr",
     "output_type": "stream",
     "text": [
      "c:\\Users\\Vincent\\projects\\gaspr\\.venv\\lib\\site-packages\\tqdm\\auto.py:21: TqdmWarning: IProgress not found. Please update jupyter and ipywidgets. See https://ipywidgets.readthedocs.io/en/stable/user_install.html\n",
      "  from .autonotebook import tqdm as notebook_tqdm\n"
     ]
    }
   ],
   "source": [
    "from pathlib import Path\n",
    "import sys\n",
    "import os\n",
    "parent_folder = Path.cwd().parent\n",
    "sys.path.append(parent_folder.parent.as_posix())\n",
    "\n",
    "from dotenv import load_dotenv\n",
    "load_dotenv(parent_folder.as_posix() + '/.env')\n",
    "\n",
    "import uuid\n",
    "from gaspr.persistent import FileSystem, File\n",
    "from gaspr import VectorIndexer, ListIndexer\n",
    "from gaspr.llms import AzureOpenAI"
   ]
  },
  {
   "cell_type": "code",
   "execution_count": 2,
   "metadata": {},
   "outputs": [],
   "source": [
    "long_text_document = \"Alberta Premier Danielle Smith says her United Conservative Party is paying for legal action she is considering against the CBC, which the Opposition NDP says raises the question of whether the government rejected pursuing the lawsuit. Smith, asked by reporters in Calgary on Tuesday who was funding the legal action, replied “the party,” and did not elaborate. Her office did not immediately respond to followup questions about why the party would fund the legal action that concerns Smith in her role as premier. Party spokesman Dave Prisco also did not immediately respond to a request for clarification on why the UCP had agreed to pay the bill. On Sunday, a notice of defamation letter sent from lawyers on behalf of Smith called on the CBC to retract and apologize for a January story. The story stated a member of her staff sent emails to the Alberta Crown Prosecution Service challenging how it was handling court cases from COVID-19 protests at the United States-Canada border crossing at Coutts, Alta.Smith has said a review found no evidence of contact between her office and the prosecution service. The CBC has said it stands by its reporting. A week ago, the NDP released a phone call recording of Smith discussing with Calgary street pastor Artur Pawlowski his looming criminal trial related to his involvement with the Coutts blockade. Smith is heard offering to make inquiries on Pawlowski's behalf, revealing to him internal government arguments over case direction and telling him that the charges against him are rooted in political bias. She also said she was reminding prosecutors “almost weekly” about her concerns about pursuing such cases. Smith has refused to answer questions from reporters about the call, citing the possible lawsuit against CBC. Opposition NDP Leader Rachel Notley said Tuesday that during her time as premier there was insurance to cover legal costs for cabinet ministers in the course of their work. Notley said it's possible those tasked with weighing the merits of Smith's possible lawsuit came out against paying for it, forcing Smith to look elsewhere. “It's very possible that the people who run that fund within the Government of Alberta and within the Ministry of Attorney General don't actually think that this is a particularly valid legal strategy for the premier, and (that) it's not a problem that she ran into by virtue of doing her appropriate job as the premier,” said Notley. “Rather, (Smith) ran offside in a way that is unprecedented and unacceptable, and so the only way that this lawsuit can even be pursued is if she goes to UCP donors and asks them to pay.” Notley said the other option is that Smith deliberately went outside the government to pursue the case. “If (Smith) believed that she was truly the victim of defamation as a result of doing her job as premier, that (government insurance) is a fund they could have gone to,” said Notley. “But when that happens, you're not hiring the lawyers. The public service is hiring the lawyers and the lawyers are giving the advice that the law would suggest they give. “But because, I would argue, the premier is so offside with the law, she is instead going to a partisan source of funding so that she can use this legal action as a political tactic, not as a genuine legal claim.” The NDP has called for an independent investigation to determine what happened and whether Smith, as premier, contacted other accused to discuss their cases. Legal experts have said Smith's call with Pawlowski represents a profound violation of the democratic convention that there must be a firewall to separate politicians from the day-to-day decision-making of cases before the courts. The notice of defamation letter gives the CBC until April 28 to retract its article and apologize or face potential further legal action, which would be just days before an expected writ drop for a provincial election, scheduled for May 29. Smith has long been critical of COVID-19 masking, gathering and vaccine mandate rules, questioning whether the measures were needed to fight the pandemic. She had promised to seek pardons for protesters of COVID-19 health restrictions. After becoming premier, she said she learned she does not have the power to grant pardons.\"\n",
    "llm = AzureOpenAI('text-davinci-003', \n",
    "                  embedding_model='text-embedding-ada-002')\n",
    "storage = FileSystem('./tester', create_missing=True)\n",
    "await storage._aupload_file(File('test.txt', long_text_document))"
   ]
  },
  {
   "cell_type": "code",
   "execution_count": 3,
   "metadata": {},
   "outputs": [],
   "source": [
    "indexer = await VectorIndexer.create(llm=llm, storage=storage)\n",
    "await indexer.asave()"
   ]
  },
  {
   "cell_type": "code",
   "execution_count": null,
   "metadata": {},
   "outputs": [],
   "source": [
    "indexer.query(\"Can you summarize the whole text.\")"
   ]
  },
  {
   "cell_type": "code",
   "execution_count": null,
   "metadata": {},
   "outputs": [],
   "source": [
    "await indexer.aquery(\"Summarize in one sentence.\")"
   ]
  },
  {
   "cell_type": "code",
   "execution_count": null,
   "metadata": {},
   "outputs": [],
   "source": [
    "await indexer.adelete()"
   ]
  },
  {
   "cell_type": "code",
   "execution_count": 4,
   "metadata": {},
   "outputs": [],
   "source": [
    "list_indexer = await ListIndexer.create(llm=llm, storage=storage)\n",
    "await list_indexer.asave()"
   ]
  },
  {
   "cell_type": "code",
   "execution_count": 5,
   "metadata": {},
   "outputs": [
    {
     "name": "stderr",
     "output_type": "stream",
     "text": [
      "INFO:llama_index.token_counter.token_counter:> [query] Total LLM token usage: 2612 tokens\n",
      "INFO:llama_index.token_counter.token_counter:> [query] Total embedding token usage: 0 tokens\n"
     ]
    },
    {
     "data": {
      "text/plain": [
       "LlamaIndexResponse(text=\"\\nAlberta Premier Danielle Smith has asked the United Conservative Party to pay for legal action against the CBC for a story regarding her staff's contact with the Alberta Crown Prosecution Service. The Opposition NDP has raised questions about why the party is funding Smith's legal action and why she did not pursue insurance to cover the costs. Smith's phone call with Calgary street pastor Artur Pawlowski, in which she discussed his pending criminal trial and offered to make inquiries on his behalf, has been called a violation of democratic convention. Meanwhile, freezing rain alerts were issued by Environment Canada for several regions in southwestern Quebec and Montreal, Laval, Laurentians, Outaouais, Lanaudière, and Montérégie are expected to be most affected, with up to 30 millimetres of ice forecasted in certain areas. In Vancouver, police have moved in to begin the process of removing a street encampment from the Downtown Eastside, citing public safety and an increase of fires in the area. The CBC has been given until April 28 to retract its story and apologize or risk further legal action, which would be close to the expected writ drop for a provincial election.\")"
      ]
     },
     "execution_count": 5,
     "metadata": {},
     "output_type": "execute_result"
    }
   ],
   "source": [
    "list_indexer.query(\"What is a summary of this collection of text?\")"
   ]
  }
 ],
 "metadata": {
  "kernelspec": {
   "display_name": ".venv",
   "language": "python",
   "name": "python3"
  },
  "language_info": {
   "codemirror_mode": {
    "name": "ipython",
    "version": 3
   },
   "file_extension": ".py",
   "mimetype": "text/x-python",
   "name": "python",
   "nbconvert_exporter": "python",
   "pygments_lexer": "ipython3",
   "version": "3.10.10"
  },
  "orig_nbformat": 4
 },
 "nbformat": 4,
 "nbformat_minor": 2
}
